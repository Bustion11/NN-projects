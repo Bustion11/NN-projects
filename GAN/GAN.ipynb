{
  "nbformat": 4,
  "nbformat_minor": 0,
  "metadata": {
    "colab": {
      "provenance": [],
      "mount_file_id": "1gCYMfJ3jTFiBR--hxPkQi2QcrD3PeJNJ",
      "authorship_tag": "ABX9TyPMUXnaQ5zDQklUsKUogqKO",
      "include_colab_link": true
    },
    "kernelspec": {
      "name": "python3",
      "display_name": "Python 3"
    },
    "language_info": {
      "name": "python"
    },
    "accelerator": "GPU",
    "gpuClass": "standard"
  },
  "cells": [
    {
      "cell_type": "markdown",
      "metadata": {
        "id": "view-in-github",
        "colab_type": "text"
      },
      "source": [
        "<a href=\"https://colab.research.google.com/github/Bustion11/NN-projects/blob/main/GAN/GAN.ipynb\" target=\"_parent\"><img src=\"https://colab.research.google.com/assets/colab-badge.svg\" alt=\"Open In Colab\"/></a>"
      ]
    },
    {
      "cell_type": "code",
      "execution_count": null,
      "metadata": {
        "id": "XJxlOjdZ3T6m",
        "colab": {
          "base_uri": "https://localhost:8080/"
        },
        "outputId": "7b81f96c-497e-41bc-a54a-ce7ed29b107f"
      },
      "outputs": [
        {
          "output_type": "execute_result",
          "data": {
            "text/plain": [
              "<torch._C.Generator at 0x7f4b9d58dfb0>"
            ]
          },
          "metadata": {},
          "execution_count": 68
        }
      ],
      "source": [
        "import torch\n",
        "from torch import nn \n",
        "from torch.utils.data import Dataset, DataLoader\n",
        "import torchvision\n",
        "from torchvision import transforms\n",
        "from torchvision.transforms import ToTensor\n",
        "from torchvision.datasets.mnist import MNIST\n",
        "import numpy as np\n",
        "import matplotlib.pyplot as plt\n",
        "DEVICE = \"cuda\" if torch.cuda.is_available() else \"cpu\"\n",
        "\n",
        "torch.manual_seed(999)"
      ]
    },
    {
      "cell_type": "code",
      "source": [
        "# First things first is the model\n",
        "class Discriminator(nn.Module):\n",
        "  '''\n",
        "  Discriminator. \n",
        "    -Loss function in this case must be minimized.\n",
        "    -Architecture details:\n",
        "      -LeakyReLU for every layer.\n",
        "      -BatchNormalization for every layer apart from input and output\n",
        "      -No fully connected layers\n",
        "  '''\n",
        "\n",
        "  def _block(self, in_channels, out_channels, kernel_size, stride, padding):\n",
        "    return nn.Sequential(\n",
        "        nn.Conv2d(in_channels, out_channels, kernel_size, stride, padding, bias=False),\n",
        "        nn.LeakyReLU(negative_slope=self.relu_slope),\n",
        "        nn.BatchNorm2d(out_channels)\n",
        "    )\n",
        "\n",
        "  def __init__(self, channels_img, features_d, relu_slope: float = 0.2):\n",
        "    super(Discriminator, self).__init__()\n",
        "    self.relu_slope = relu_slope\n",
        "\n",
        "    self.stack = nn.Sequential(\n",
        "        nn.Conv2d(channels_img, features_d*2, 4, 2, 1), # 1x28x28 -> 28x14x14, CHW\n",
        "        nn.LeakyReLU(relu_slope),\n",
        "        self._block(features_d*2, features_d*4, 4, 2, 1), # 28x14x14 -> 56x7x7\n",
        "        self._block(features_d*4, features_d*8, 4, 2, 1), # 56x7x7 -> 112x3x3\n",
        "        nn.Conv2d(features_d*8, 1, 3, 2, 0),\n",
        "        nn.Sigmoid()\n",
        "    )\n",
        "    self.flat = nn.Flatten()\n",
        "  \n",
        "  def forward(self, X):\n",
        "    x = self.stack(X)\n",
        "    return self.flat(x)\n",
        "\n",
        "Disc = Discriminator(1, 28).to(DEVICE)"
      ],
      "metadata": {
        "id": "dUggn28Frk32"
      },
      "execution_count": null,
      "outputs": []
    },
    {
      "cell_type": "code",
      "source": [
        "class Generator(nn.Module):\n",
        "\n",
        "  def _block(self, in_channels, out_channels, kernel_size, stride, padding):\n",
        "    return nn.Sequential(\n",
        "        nn.ConvTranspose2d(in_channels, out_channels, kernel_size, stride, padding),\n",
        "        nn.ReLU(),\n",
        "        nn.BatchNorm2d(out_channels)\n",
        "    )\n",
        "  \n",
        "  def __init__(self, channels_img, features_g, noise_dim=100):\n",
        "    super(Generator, self).__init__()\n",
        "\n",
        "    self.stack = nn.Sequential(\n",
        "        # Input: Batch_size x noise_dim x 1 x 1\n",
        "        self._block(noise_dim, features_g*16, 4, 2, 0), # 4x4\n",
        "        self._block(features_g*16, features_g*8, 3, 2, 1), # 7x7\n",
        "        self._block(features_g*8, features_g*4, 4, 2, 1), # 14x14\n",
        "        nn.ConvTranspose2d(features_g*4, channels_img, 4, 2, 1), # 28x28\n",
        "        nn.Tanh()\n",
        "    )\n",
        "  \n",
        "  def forward(self, X):\n",
        "    return self.stack(X)\n",
        "\n",
        "Gen = Generator(1, 28).to(DEVICE)"
      ],
      "metadata": {
        "id": "7mcPtM6Zn5MO"
      },
      "execution_count": null,
      "outputs": []
    },
    {
      "cell_type": "code",
      "source": [
        "with torch.no_grad():\n",
        "  print(Disc(torch.rand(128, 1, 28, 28).float()).shape)"
      ],
      "metadata": {
        "id": "XH7BgFcYnGwT"
      },
      "execution_count": null,
      "outputs": []
    },
    {
      "cell_type": "code",
      "source": [
        "with torch.no_grad():\n",
        "  print(Gen(torch.rand(128, 100, 1, 1).float()).shape)"
      ],
      "metadata": {
        "id": "dkJvPe0uni7A"
      },
      "execution_count": null,
      "outputs": []
    },
    {
      "cell_type": "code",
      "source": [
        "train_data = MNIST(\n",
        "    root = \"data\",\n",
        "    train = True, \n",
        "    transform=transforms.Compose([\n",
        "                                  transforms.ToTensor(),\n",
        "                                  transforms.Normalize([0.5 for _ in range(1)], [0.5 for _ in range(1)])                                       \n",
        "    ]),\n",
        "    download=True\n",
        ")"
      ],
      "metadata": {
        "id": "Fn-KzJ1_4WRE"
      },
      "execution_count": null,
      "outputs": []
    },
    {
      "cell_type": "code",
      "source": [
        "batch_size = 128\n",
        "lr_gen = 2e-4\n",
        "lr_disc = 2e-4\n",
        "betas = (0.5, 0.999)\n",
        "\n",
        "disc_optimizer = torch.optim.Adam(Disc.parameters(), lr_disc, betas)\n",
        "gen_optimizer = torch.optim.Adam(Gen.parameters(), lr_gen, betas)\n",
        "\n",
        "loss_fn = nn.BCELoss()"
      ],
      "metadata": {
        "id": "BmEZXOTXHz23"
      },
      "execution_count": null,
      "outputs": []
    },
    {
      "cell_type": "code",
      "source": [
        "# Training discriminator\n",
        "train_data_true = DataLoader(train_data, batch_size, shuffle=True)"
      ],
      "metadata": {
        "id": "WNcE6aQIIDi4"
      },
      "execution_count": null,
      "outputs": []
    },
    {
      "cell_type": "code",
      "source": [
        "# Generate fixed noise for debugging purposes\n",
        "fixed_noise = torch.randn(32, 100, 1, 1)"
      ],
      "metadata": {
        "id": "vaxUyAaP1gTt"
      },
      "execution_count": null,
      "outputs": []
    },
    {
      "cell_type": "code",
      "source": [
        "def calculate_penalty(real, critic):\n",
        "  real = torch.autograd.Variable(real, requires_grad=True)\n",
        "  real_scores = critic(real)\n",
        "  penalty = torch.autograd.grad(\n",
        "        inputs=real,\n",
        "        outputs=real_scores,\n",
        "        grad_outputs=torch.ones_like(real_scores).to(DEVICE),\n",
        "        create_graph=True,\n",
        "        retain_graph=True\n",
        "    )[0].reshape(real.shape[0], -1)\n",
        "\n",
        "  penalty = torch.norm(penalty, dim=1).pow(2)\n",
        "  return penalty.mean()"
      ],
      "metadata": {
        "id": "bwTiYPmFilfR"
      },
      "execution_count": null,
      "outputs": []
    },
    {
      "cell_type": "code",
      "source": [
        "# Training loop for classic CNN classificator\n",
        "Disc.train()\n",
        "Gen.train()\n",
        "def GAN_training_loop(discriminator, generator, optimizer_discriminator, optimizer_generator, loss_function, dataloader, batch_size):\n",
        "  for batch, (X, y) in enumerate(dataloader):\n",
        "      X = X.to(DEVICE)\n",
        "      real= X.to(DEVICE)\n",
        "      noise = torch.randn(batch_size, 100, 1, 1).float().to(DEVICE)\n",
        "      fake = generator(noise)\n",
        "      \n",
        "      # Use this formula to optimize discriminator: max log(D(X)) + log(1-D(G(z)))\n",
        "      disc_real = discriminator(real).reshape(-1)\n",
        "      disc_real_loss = loss_function(disc_real, torch.ones_like(disc_real))\n",
        "\n",
        "      disc_fake = discriminator(fake).reshape(-1)\n",
        "      disc_fake_loss = loss_function(disc_fake, torch.zeros_like(disc_fake))\n",
        "\n",
        "      penalty = calculate_penalty(real.detach(), discriminator)\n",
        "\n",
        "      disc_loss = (disc_real_loss + disc_fake_loss)/2 + 10/2 * penalty\n",
        "      if batch % 100 == 0:\n",
        "        print('Discriminator loss: ', disc_loss.detach())\n",
        "        print(disc_real.shape)\n",
        "\n",
        "      discriminator.zero_grad()\n",
        "      disc_loss.backward(retain_graph=True)\n",
        "      optimizer_discriminator.step()\n",
        "\n",
        "      # Optimizing the generator\n",
        "\n",
        "      output = discriminator(fake).reshape(-1)\n",
        "      loss_generator = loss_function(output, torch.ones_like(output))\n",
        "      if batch % 100 == 0:\n",
        "        print('Generator loss: ', loss_generator.detach())\n",
        "      \n",
        "      generator.zero_grad()\n",
        "      loss_generator.backward()\n",
        "      optimizer_generator.step()"
      ],
      "metadata": {
        "id": "yza0heIxmMyw"
      },
      "execution_count": null,
      "outputs": []
    },
    {
      "cell_type": "code",
      "source": [
        "GAN_training_loop(Disc, Gen, disc_optimizer, gen_optimizer, loss_fn, train_data_true, batch_size)"
      ],
      "metadata": {
        "id": "fHgWuMLkRWXR",
        "colab": {
          "base_uri": "https://localhost:8080/"
        },
        "outputId": "ab3277d1-8ab0-4634-a0b3-7c67c453bf4f"
      },
      "execution_count": null,
      "outputs": [
        {
          "output_type": "stream",
          "name": "stdout",
          "text": [
            "Discriminator loss:  tensor(0.6727, device='cuda:0')\n",
            "torch.Size([128, 1])\n",
            "Generator loss:  tensor(0.8143, device='cuda:0')\n",
            "Discriminator loss:  tensor(0.6777, device='cuda:0')\n",
            "torch.Size([128, 1])\n",
            "Generator loss:  tensor(0.7604, device='cuda:0')\n",
            "Discriminator loss:  tensor(0.6828, device='cuda:0')\n",
            "torch.Size([128, 1])\n",
            "Generator loss:  tensor(0.7412, device='cuda:0')\n",
            "Discriminator loss:  tensor(0.6766, device='cuda:0')\n",
            "torch.Size([128, 1])\n",
            "Generator loss:  tensor(0.7725, device='cuda:0')\n",
            "Discriminator loss:  tensor(0.6675, device='cuda:0')\n",
            "torch.Size([128, 1])\n",
            "Generator loss:  tensor(0.7952, device='cuda:0')\n"
          ]
        }
      ]
    },
    {
      "cell_type": "code",
      "source": [
        "for epoch in range(5):\n",
        "  print(\"EPOCH #\", epoch+1)\n",
        "  GAN_training_loop(Disc, Gen, disc_optimizer, gen_optimizer, loss_fn, train_data_true, batch_size)\n",
        "\n",
        "print(\"Finished!\")\n",
        "#torch.save(Disc.state_dict(), '/content/drive/MyDrive/NN/DCGAN/Disc_weights.pth')\n",
        "#torch.save(Gen.state_dict(), '/content/drive/MyDrive/NN/DCGAN/Gen_weights.pth')\n",
        "#torch.save(Disc, '/content/drive/MyDrive/NN/DCGAN/Disc.pth')\n",
        "#torch.save(Gen, '/content/drive/MyDrive/NN/DCGAN/Gen.pth')"
      ],
      "metadata": {
        "id": "XqLUMQCXrCbT",
        "colab": {
          "base_uri": "https://localhost:8080/"
        },
        "outputId": "9692a2fc-5735-4e64-e504-b9158cc068c2"
      },
      "execution_count": null,
      "outputs": [
        {
          "output_type": "stream",
          "name": "stdout",
          "text": [
            "EPOCH # 1\n",
            "Discriminator loss:  tensor(0.6277, device='cuda:0')\n",
            "Generator loss:  tensor(0.8134, device='cuda:0')\n",
            "Discriminator loss:  tensor(0.6180, device='cuda:0')\n",
            "Generator loss:  tensor(0.8929, device='cuda:0')\n",
            "Discriminator loss:  tensor(0.6379, device='cuda:0')\n",
            "Generator loss:  tensor(0.8228, device='cuda:0')\n",
            "Discriminator loss:  tensor(0.6212, device='cuda:0')\n",
            "Generator loss:  tensor(0.8522, device='cuda:0')\n",
            "Discriminator loss:  tensor(0.6402, device='cuda:0')\n",
            "Generator loss:  tensor(0.8407, device='cuda:0')\n",
            "EPOCH # 2\n",
            "Discriminator loss:  tensor(0.6389, device='cuda:0')\n",
            "Generator loss:  tensor(0.8618, device='cuda:0')\n",
            "Discriminator loss:  tensor(0.6294, device='cuda:0')\n",
            "Generator loss:  tensor(0.8212, device='cuda:0')\n",
            "Discriminator loss:  tensor(0.6526, device='cuda:0')\n",
            "Generator loss:  tensor(0.7853, device='cuda:0')\n",
            "Discriminator loss:  tensor(0.6677, device='cuda:0')\n",
            "Generator loss:  tensor(0.7976, device='cuda:0')\n",
            "Discriminator loss:  tensor(0.6362, device='cuda:0')\n",
            "Generator loss:  tensor(0.8511, device='cuda:0')\n",
            "EPOCH # 3\n",
            "Discriminator loss:  tensor(0.6586, device='cuda:0')\n",
            "Generator loss:  tensor(0.8272, device='cuda:0')\n",
            "Discriminator loss:  tensor(0.6449, device='cuda:0')\n",
            "Generator loss:  tensor(0.8334, device='cuda:0')\n",
            "Discriminator loss:  tensor(0.6578, device='cuda:0')\n",
            "Generator loss:  tensor(0.8443, device='cuda:0')\n",
            "Discriminator loss:  tensor(0.6699, device='cuda:0')\n",
            "Generator loss:  tensor(0.8052, device='cuda:0')\n",
            "Discriminator loss:  tensor(0.6711, device='cuda:0')\n",
            "Generator loss:  tensor(0.8211, device='cuda:0')\n",
            "EPOCH # 4\n",
            "Discriminator loss:  tensor(0.6667, device='cuda:0')\n",
            "Generator loss:  tensor(0.7982, device='cuda:0')\n",
            "Discriminator loss:  tensor(0.6629, device='cuda:0')\n",
            "Generator loss:  tensor(0.8165, device='cuda:0')\n",
            "Discriminator loss:  tensor(0.6566, device='cuda:0')\n",
            "Generator loss:  tensor(0.8000, device='cuda:0')\n",
            "Discriminator loss:  tensor(0.6470, device='cuda:0')\n",
            "Generator loss:  tensor(0.8068, device='cuda:0')\n",
            "Discriminator loss:  tensor(0.6585, device='cuda:0')\n",
            "Generator loss:  tensor(0.7726, device='cuda:0')\n",
            "EPOCH # 5\n",
            "Discriminator loss:  tensor(0.6541, device='cuda:0')\n",
            "Generator loss:  tensor(0.7836, device='cuda:0')\n",
            "Discriminator loss:  tensor(0.6965, device='cuda:0')\n",
            "Generator loss:  tensor(0.7788, device='cuda:0')\n",
            "Discriminator loss:  tensor(0.6599, device='cuda:0')\n",
            "Generator loss:  tensor(0.7675, device='cuda:0')\n",
            "Discriminator loss:  tensor(0.6844, device='cuda:0')\n",
            "Generator loss:  tensor(0.7840, device='cuda:0')\n",
            "Discriminator loss:  tensor(0.6667, device='cuda:0')\n",
            "Generator loss:  tensor(0.8135, device='cuda:0')\n",
            "Finished!\n"
          ]
        }
      ]
    },
    {
      "cell_type": "code",
      "source": [
        "Gen.eval()\n",
        "prediction = Gen(fixed_noise.to(DEVICE))"
      ],
      "metadata": {
        "id": "fVhMnbfTv-1B"
      },
      "execution_count": null,
      "outputs": []
    },
    {
      "cell_type": "code",
      "source": [
        "plt.imshow(train_data.data[0], 'gray')"
      ],
      "metadata": {
        "id": "JI31veKwbERE",
        "colab": {
          "base_uri": "https://localhost:8080/",
          "height": 282
        },
        "outputId": "2019f0cd-29e5-4971-efaf-4050ac0bf67f"
      },
      "execution_count": null,
      "outputs": [
        {
          "output_type": "execute_result",
          "data": {
            "text/plain": [
              "<matplotlib.image.AxesImage at 0x7fd3064d0ed0>"
            ]
          },
          "metadata": {},
          "execution_count": 28
        },
        {
          "output_type": "display_data",
          "data": {
            "text/plain": [
              "<Figure size 432x288 with 1 Axes>"
            ],
            "image/png": "[encoded data removed]"
          },
          "metadata": {
            "needs_background": "light"
          }
        }
      ]
    },
    {
      "cell_type": "code",
      "source": [
        "plt.imshow(prediction.cpu().detach()[6][0], 'gray')\n",
        "plt.show()"
      ],
      "metadata": {
        "id": "W1ktb0N1B4vH",
        "colab": {
          "base_uri": "https://localhost:8080/",
          "height": 265
        },
        "outputId": "3ccd123c-5244-47f2-91a3-73d01bf08eaa"
      },
      "execution_count": null,
      "outputs": [
        {
          "output_type": "display_data",
          "data": {
            "text/plain": [
              "<Figure size 432x288 with 1 Axes>"
            ],
            "image/png": "[encoded data removed]"
          },
          "metadata": {
            "needs_background": "light"
          }
        }
      ]
    }
  ]
}